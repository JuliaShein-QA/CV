{
  "nbformat": 4,
  "nbformat_minor": 0,
  "metadata": {
    "colab": {
      "provenance": [],
      "authorship_tag": "ABX9TyO56r+uVFuYZ3B/aX8cIB8F",
      "include_colab_link": true
    },
    "kernelspec": {
      "name": "python3",
      "display_name": "Python 3"
    },
    "language_info": {
      "name": "python"
    }
  },
  "cells": [
    {
      "cell_type": "markdown",
      "metadata": {
        "id": "view-in-github",
        "colab_type": "text"
      },
      "source": [
        "<a href=\"https://colab.research.google.com/github/JuliaShein-QA/CV/blob/main/Untitled1.ipynb\" target=\"_parent\"><img src=\"https://colab.research.google.com/assets/colab-badge.svg\" alt=\"Open In Colab\"/></a>"
      ]
    },
    {
      "cell_type": "code",
      "source": [
        "!pip install pyTelegramBotAPI"
      ],
      "metadata": {
        "colab": {
          "base_uri": "https://localhost:8080/"
        },
        "id": "75x81EiiLTV1",
        "outputId": "3686115d-d52d-423d-fee4-da208a745e28"
      },
      "execution_count": 2,
      "outputs": [
        {
          "output_type": "stream",
          "name": "stdout",
          "text": [
            "Collecting pyTelegramBotAPI\n",
            "  Downloading pyTelegramBotAPI-4.15.4.tar.gz (260 kB)\n",
            "\u001b[?25l     \u001b[90m━━━━━━━━━━━━━━━━━━━━━━━━━━━━━━━━━━━━━━━━\u001b[0m \u001b[32m0.0/260.1 kB\u001b[0m \u001b[31m?\u001b[0m eta \u001b[36m-:--:--\u001b[0m\r\u001b[2K     \u001b[91m━━━━━━━━━━━━━━━━━━━━━━\u001b[0m\u001b[90m╺\u001b[0m\u001b[90m━━━━━━━━━━━━━━━━━\u001b[0m \u001b[32m143.4/260.1 kB\u001b[0m \u001b[31m4.1 MB/s\u001b[0m eta \u001b[36m0:00:01\u001b[0m\r\u001b[2K     \u001b[90m━━━━━━━━━━━━━━━━━━━━━━━━━━━━━━━━━━━━━━━━\u001b[0m \u001b[32m260.1/260.1 kB\u001b[0m \u001b[31m4.8 MB/s\u001b[0m eta \u001b[36m0:00:00\u001b[0m\n",
            "\u001b[?25h  Preparing metadata (setup.py) ... \u001b[?25l\u001b[?25hdone\n",
            "Requirement already satisfied: requests in /usr/local/lib/python3.10/dist-packages (from pyTelegramBotAPI) (2.31.0)\n",
            "Requirement already satisfied: charset-normalizer<4,>=2 in /usr/local/lib/python3.10/dist-packages (from requests->pyTelegramBotAPI) (3.3.2)\n",
            "Requirement already satisfied: idna<4,>=2.5 in /usr/local/lib/python3.10/dist-packages (from requests->pyTelegramBotAPI) (3.6)\n",
            "Requirement already satisfied: urllib3<3,>=1.21.1 in /usr/local/lib/python3.10/dist-packages (from requests->pyTelegramBotAPI) (2.0.7)\n",
            "Requirement already satisfied: certifi>=2017.4.17 in /usr/local/lib/python3.10/dist-packages (from requests->pyTelegramBotAPI) (2024.2.2)\n",
            "Building wheels for collected packages: pyTelegramBotAPI\n",
            "  Building wheel for pyTelegramBotAPI (setup.py) ... \u001b[?25l\u001b[?25hdone\n",
            "  Created wheel for pyTelegramBotAPI: filename=pyTelegramBotAPI-4.15.4-py3-none-any.whl size=231937 sha256=049fde00e056b5c8ca6dde44781fe9b2896f737bd2707b44cba5b7475fcde210\n",
            "  Stored in directory: /root/.cache/pip/wheels/37/50/a0/68519c75209358c42758e5ed2d3c9da9afda4d20a3ac393070\n",
            "Successfully built pyTelegramBotAPI\n",
            "Installing collected packages: pyTelegramBotAPI\n",
            "Successfully installed pyTelegramBotAPI-4.15.4\n"
          ]
        }
      ]
    },
    {
      "cell_type": "code",
      "source": [
        "import random\n",
        "import telebot\n",
        "\n",
        "# Initialize the bot\n",
        "bot = telebot.TeleBot (\"6954639169:AAEYjwdd3Sj38pthpSZ9E-ZENC3v6CeohfI\")\n",
        "\n",
        "# List of Detective TV series\n",
        "SERIALS = [\n",
        "    \"True Detective\",\n",
        "    \"Twin Peaks\",\n",
        "    \"The Outsider\",\n",
        "    \"Defending Jacob\",\n",
        "    \"Unbelievable\",\n",
        "    \"Black Mirror\",\n",
        "    \"Criminal Minds\",\n",
        "    \"The Sinner\",\n",
        "    \"Mindhunter\",\n",
        "    \"Dexter\",\n",
        "    \"The Killing\",\n",
        "    \"The Undoing\",\n",
        "    \"Big Little Lies\",\n",
        "    \"Sherlock\",\n",
        "    \"The Night Of\",\n",
        "    \"Sharp Objects\"\n",
        "]\n",
        "\n",
        "# Handler for the /start command\n",
        "@bot.message_handler(commands=['start'])\n",
        "def start_message(message):\n",
        "    bot.send_message(message.chat.id, 'Hello! I\\'m a bot that can recommend TV series. Just type /recommend.')\n",
        "\n",
        "# Handler for the /recommend command\n",
        "@bot.message_handler(commands=['recommend'])\n",
        "def recommend_message(message):\n",
        "    serial = random.choice(SERIALS)\n",
        "    bot.send_message(message.chat.id, f'My recommended Detective TV series for the evening: {serial}')\n",
        "\n",
        "# Start the bot\n",
        "bot.polling()\n"
      ],
      "metadata": {
        "id": "-UBHj2nhSZkt"
      },
      "execution_count": null,
      "outputs": []
    }
  ]
}